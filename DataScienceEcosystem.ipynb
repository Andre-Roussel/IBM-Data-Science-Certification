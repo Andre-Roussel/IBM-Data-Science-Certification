{
 "cells": [
  {
   "cell_type": "markdown",
   "id": "9954a33f-8cb8-4090-95e1-3b2493a10a24",
   "metadata": {},
   "source": [
    "# Data Science Tools and Ecosystem"
   ]
  },
  {
   "cell_type": "markdown",
   "id": "b61e0e38-ccea-4d3d-8937-ad83d9a3b526",
   "metadata": {},
   "source": [
    "## In this notebook, Data Science Tools and Ecosystem are summarized."
   ]
  },
  {
   "cell_type": "markdown",
   "id": "a97fc78d-c6b3-4e74-878f-4a34744edb98",
   "metadata": {},
   "source": [
    "**Objectives**\n",
    "- List popular landuages for Data Science\n",
    "- List commonly used libraries for Data Science\n",
    "- List Popular Data Science tools\n",
    "- Perform simple arithmetic\n"
   ]
  },
  {
   "cell_type": "markdown",
   "id": "37c2881a-7867-4db5-85c5-4edb4b145e68",
   "metadata": {},
   "source": [
    "### Some of the popular languages that Data Scientists use are:\n",
    "\n",
    "1. Python\n",
    "2. R\n",
    "3. SQL\n",
    "4. Scala\n",
    "5. Java\n",
    "6. C++\n",
    "7. Julia"
   ]
  },
  {
   "cell_type": "markdown",
   "id": "040c26af-c872-4061-936c-7c1a5273c70d",
   "metadata": {},
   "source": [
    "### Some of the commonly used libraries used by Data Scientists include:\n",
    "\n",
    "1. Matplotlib\n",
    "2. Scikit-learn\n",
    "3. Keras\n",
    "4. Pytorch"
   ]
  },
  {
   "cell_type": "markdown",
   "id": "97f5a592-33db-4961-acdf-4b4c2534288e",
   "metadata": {},
   "source": [
    "| Data Science Tools |\n",
    "|--------|\n",
    "|Jupyter Notebooks|\n",
    "|Jupyter Lab|\n",
    "|Apache Zeppelin|\n",
    "|R Studio|\n",
    "|Spyder|"
   ]
  },
  {
   "cell_type": "markdown",
   "id": "a99cba49-a8bf-479b-b2c5-0cabbf0dfecd",
   "metadata": {},
   "source": [
    "### Below are a few examples of evaluating arithmetic expressions in Python"
   ]
  },
  {
   "cell_type": "code",
   "execution_count": 5,
   "id": "2d7a3736-675b-4648-89ed-10df5ca099f5",
   "metadata": {},
   "outputs": [
    {
     "data": {
      "text/plain": [
       "17"
      ]
     },
     "execution_count": 5,
     "metadata": {},
     "output_type": "execute_result"
    }
   ],
   "source": [
    "# This a simple arithmetic expression to mutiply then add integers #\n",
    "(3*4)+5"
   ]
  },
  {
   "cell_type": "code",
   "execution_count": 19,
   "id": "62a122a9-82b0-4b07-9879-afc85f00868f",
   "metadata": {},
   "outputs": [
    {
     "name": "stdout",
     "output_type": "stream",
     "text": [
      "200 minutes represents\n",
      "3.3333333333333335\n",
      "hours\n"
     ]
    }
   ],
   "source": [
    "# This will convert 200 minutes to hours by diving by 60\n",
    "print(\"200 minutes represents\")\n",
    "print(200/60)\n",
    "print(\"hours\")\n"
   ]
  },
  {
   "cell_type": "markdown",
   "id": "cfb0c8fa-b504-4fa5-b1da-1fd06dbd8213",
   "metadata": {},
   "source": [
    "## Author\n",
    "André Roussel"
   ]
  },
  {
   "cell_type": "code",
   "execution_count": null,
   "id": "2dfd9a1e-698c-4fd9-871a-0855dea8b234",
   "metadata": {},
   "outputs": [],
   "source": []
  }
 ],
 "metadata": {
  "kernelspec": {
   "display_name": "Python 3 (ipykernel)",
   "language": "python",
   "name": "python3"
  },
  "language_info": {
   "codemirror_mode": {
    "name": "ipython",
    "version": 3
   },
   "file_extension": ".py",
   "mimetype": "text/x-python",
   "name": "python",
   "nbconvert_exporter": "python",
   "pygments_lexer": "ipython3",
   "version": "3.7.1"
  }
 },
 "nbformat": 4,
 "nbformat_minor": 5
}
